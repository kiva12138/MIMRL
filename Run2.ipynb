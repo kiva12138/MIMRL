{
 "cells": [
  {
   "cell_type": "code",
   "execution_count": null,
   "id": "a5ebde76",
   "metadata": {
    "collapsed": true
   },
   "outputs": [],
   "source": [
    "cmd = 'python Main.py --task_name mosiDec4.2 --dataset mosi_Dec --log_scale 0-0-0 --batch_size 128 --num_workers 8  '+\\\n",
    "'--d_common 128 --encoders gru --activate gelu --time_len 100 --d_hiddens 50-3-128=10-3-128 --d_outs 50-3-128=10-3-128 '+\\\n",
    "'--dropout_mlp 0.0-0.0-0.0 --dropout 0.1-0.1-0.1-0.1 --bias --res_project 1-1 '+\\\n",
    "'--critic_type separate --baseline_type constant --bound_type infonce --mi_lr_rate 1.0 --cmi_lr_rate 1 '+\\\n",
    "'--loss_mi_coefficient1 1-1-1-1-1-1-1-1-1-1-1 --loss_mi_coefficient2 0.01-0.01-0.01-0.01-0.01-0.01-0.01-0.01 '+\\\n",
    "'--k_neighbor 4 --radius 10000.0 --cmi_last_acticate sigmoid --stage1_n 2 '+\\\n",
    "'--seed 0 --loss MAE --gradient_clip 1.0 --epochs_num 70 --optm Adam --learning_rate 4e-3 --bert_freeze no --bert_lr_rate 0.01 '+\\\n",
    "'--weight_decay 0.0 --lr_decrease multi_step --lr_decrease_iter 50-60 --lr_decrease_rate 0.1 --save_best_features --parallel '\n",
    "print(cmd)\n",
    "!{cmd}"
   ]
  },
  {
   "cell_type": "code",
   "execution_count": null,
   "id": "04fc572d",
   "metadata": {
    "collapsed": true
   },
   "outputs": [],
   "source": [
    "cmd = 'python Main.py --task_name mosiDec4.3 --dataset mosi_Dec --log_scale 0-0-0 --batch_size 128 --num_workers 8  '+\\\n",
    "'--d_common 128 --encoders gru --activate gelu --time_len 100 --d_hiddens 50-3-128=10-3-128 --d_outs 50-3-128=10-3-128 '+\\\n",
    "'--dropout_mlp 0.0-0.0-0.0 --dropout 0.1-0.1-0.1-0.1 --bias --res_project 1-1 '+\\\n",
    "'--critic_type separate --baseline_type constant --bound_type infonce --mi_lr_rate 1.0 --cmi_lr_rate 1.0 '+\\\n",
    "'--loss_mi_coefficient1 1-1-1-1-1-1-1-1-1-1-1 --loss_mi_coefficient2 0.01-0.01-0.01-0.01-0.01-0.01-0.01-0.01 '+\\\n",
    "'--k_neighbor 2 --radius 1.0 --cmi_last_acticate sigmoid --stage1_n 2 '+\\\n",
    "'--seed 0 --loss MAE --gradient_clip 1.0 --epochs_num 70 --optm Adam --learning_rate 4e-3 --bert_freeze no --bert_lr_rate 0.01 '+\\\n",
    "'--weight_decay 0.0 --lr_decrease multi_step --lr_decrease_iter 50-60 --lr_decrease_rate 0.1 --save_best_features --parallel '\n",
    "print(cmd)\n",
    "!{cmd}"
   ]
  },
  {
   "cell_type": "code",
   "execution_count": null,
   "id": "42bfaab9",
   "metadata": {
    "collapsed": true
   },
   "outputs": [],
   "source": [
    "cmd = 'python Main.py --task_name mosiDec4.4 --dataset mosi_Dec --log_scale 0-0-0 --batch_size 128 --num_workers 8  '+\\\n",
    "'--d_common 128 --encoders gru --activate gelu --time_len 100 --d_hiddens 50-3-128=10-3-128 --d_outs 50-3-128=10-3-128 '+\\\n",
    "'--dropout_mlp 0.0-0.0-0.0 --dropout 0.1-0.1-0.1-0.1 --bias --res_project 1-1 '+\\\n",
    "'--critic_type separate --baseline_type constant --bound_type infonce --mi_lr_rate 1.0 --cmi_lr_rate 1.0 '+\\\n",
    "'--loss_mi_coefficient1 1-1-1-1-1-1-1-1-1-1-1 --loss_mi_coefficient2 0.01-0.01-0.01-0.01-0.01-0.01-0.01-0.01 '+\\\n",
    "'--k_neighbor 1 --radius 1.0 --cmi_last_acticate sigmoid --stage1_n 2 '+\\\n",
    "'--seed 0 --loss MAE --gradient_clip 1.0 --epochs_num 70 --optm Adam --learning_rate 4e-3 --bert_freeze no --bert_lr_rate 0.01 '+\\\n",
    "'--weight_decay 0.0 --lr_decrease multi_step --lr_decrease_iter 50-60 --lr_decrease_rate 0.1 --save_best_features --parallel '\n",
    "print(cmd)\n",
    "!{cmd}"
   ]
  },
  {
   "cell_type": "code",
   "execution_count": null,
   "id": "8b42777a",
   "metadata": {
    "collapsed": true
   },
   "outputs": [],
   "source": [
    "# 0.695\n",
    "cmd = 'python Main.py --task_name mosiDec5 --dataset mosi_Dec --log_scale 0-0-0 --batch_size 128 --num_workers 8  '+\\\n",
    "'--d_common 128 --encoders gru --activate gelu --time_len 100 --d_hiddens 50-3-128=10-3-128 --d_outs 50-3-128=10-3-128 '+\\\n",
    "'--dropout_mlp 0.0-0.0-0.0 --dropout 0.1-0.1-0.1-0.1 --bias --res_project 1-1 '+\\\n",
    "'--critic_type separate --baseline_type constant --bound_type infonce --mi_lr_rate 1.0 --cmi_lr_rate 1.0 '+\\\n",
    "'--loss_mi_coefficient1 1-1-1-1-1-1-1-1-1-1-1 --loss_mi_coefficient2 0.1-0.1-0.1-0.1-0.1-0.1-0.1-0.1 '+\\\n",
    "'--k_neighbor 4 --radius 1.0 --cmi_last_acticate sigmoid --stage1_n 2 '+\\\n",
    "'--seed 0 --loss MAE --gradient_clip 1.0 --epochs_num 70 --optm Adam --learning_rate 4e-3 --bert_freeze no --bert_lr_rate 0.01 '+\\\n",
    "'--weight_decay 0.0 --lr_decrease multi_step --lr_decrease_iter 50-60 --lr_decrease_rate 0.1 --save_best_features --parallel '\n",
    "print(cmd)\n",
    "!{cmd}"
   ]
  },
  {
   "cell_type": "code",
   "execution_count": null,
   "id": "058846c4",
   "metadata": {
    "collapsed": true
   },
   "outputs": [],
   "source": [
    "cmd = 'python Main.py --task_name mosiDec5 --dataset mosi_Dec --log_scale 0-0-0 --batch_size 128 --num_workers 8  '+\\\n",
    "'--d_common 128 --encoders gru --activate gelu --time_len 100 --d_hiddens 50-3-128=10-3-128 --d_outs 50-3-128=10-3-128 '+\\\n",
    "'--dropout_mlp 0.0-0.0-0.0 --dropout 0.1-0.1-0.1-0.1 --bias --res_project 1-1 '+\\\n",
    "'--critic_type separate --baseline_type constant --bound_type infonce --mi_lr_rate 1.0 --cmi_lr_rate 1.0 '+\\\n",
    "'--loss_mi_coefficient1 1-1-1-1-1-1-1-1-1-1-1 --loss_mi_coefficient2 0.1-0.1-0.1-0.1-0.1-0.1-0.1-0.1 '+\\\n",
    "'--k_neighbor 4 --radius 1.0 --cmi_last_acticate sigmoid --stage1_n 2 '+\\\n",
    "'--seed 0 --loss MAE --gradient_clip 1.0 --epochs_num 70 --optm Adam --learning_rate 4e-3 --bert_freeze no --bert_lr_rate 0.01 '+\\\n",
    "'--weight_decay 0.0 --lr_decrease multi_step --lr_decrease_iter 50-60 --lr_decrease_rate 0.1 --save_best_features --parallel '\n",
    "print(cmd)\n",
    "!{cmd}"
   ]
  },
  {
   "cell_type": "code",
   "execution_count": null,
   "id": "654ffc58",
   "metadata": {
    "collapsed": true
   },
   "outputs": [],
   "source": [
    "cmd = 'python Main.py --task_name mosiDec51 --dataset mosi_Dec --log_scale 0-0-0 --batch_size 128 --num_workers 8  '+\\\n",
    "'--d_common 128 --encoders gru --activate gelu --time_len 100 --d_hiddens 50-3-128=10-3-128 --d_outs 50-3-128=10-3-128 '+\\\n",
    "'--dropout_mlp 0.0-0.0-0.0 --dropout 0.1-0.1-0.1-0.1 --bias --res_project 1-1 '+\\\n",
    "'--critic_type separate --baseline_type constant --bound_type infonce --mi_lr_rate 1.0 --cmi_lr_rate 1.0 '+\\\n",
    "'--loss_mi_coefficient1 1-1-1-1-1-1-1-1-1-1-1 --loss_mi_coefficient2 0.01-0.01-0.01-0.01-0.01-0.01-0.01-0.01 '+\\\n",
    "'--k_neighbor 2 --radius 1.0 --cmi_last_acticate sigmoid --stage1_n 2 '+\\\n",
    "'--seed 0 --loss MAE --gradient_clip 1.0 --epochs_num 70 --optm Adam --learning_rate 4e-3 --bert_freeze no --bert_lr_rate 0.01 '+\\\n",
    "'--weight_decay 0.0 --lr_decrease multi_step --lr_decrease_iter 50-60 --lr_decrease_rate 0.1 --save_best_features --parallel '\n",
    "print(cmd)\n",
    "!{cmd}"
   ]
  },
  {
   "cell_type": "code",
   "execution_count": null,
   "id": "1dfb9670",
   "metadata": {
    "collapsed": true
   },
   "outputs": [],
   "source": [
    "cmd = 'python Main.py --task_name mosiDec52 --dataset mosi_Dec --log_scale 0-0-0 --normalize 0-0-0 --batch_size 128 --num_workers 8  '+\\\n",
    "'--d_common 128 --encoders gru --activate gelu --time_len 100 --d_hiddens 50-3-128=10-3-128 --d_outs 50-3-128=10-3-128 '+\\\n",
    "'--dropout_mlp 0.0-0.0-0.0 --dropout 0.1-0.1-0.1-0.1 --bias --res_project 1-1 '+\\\n",
    "'--critic_type separate --baseline_type constant --bound_type infonce --mi_lr_rate 1.0 --cmi_lr_rate 1.0 '+\\\n",
    "'--loss_mi_coefficient1 1-1-1-1-1-1-1-1-1-1-1 --loss_mi_coefficient2 0.001-0.001-0.001-0.001-0.001-0.001-0.001-0.001 '+\\\n",
    "'--k_neighbor 2 --radius 1.0 --cmi_last_acticate sigmoid --stage1_n 2 '+\\\n",
    "'--seed 0 --loss MAE --gradient_clip 1.0 --epochs_num 70 --optm Adam --learning_rate 4e-3 --bert_freeze no --bert_lr_rate 0.01 '+\\\n",
    "'--weight_decay 0.0 --lr_decrease multi_step --lr_decrease_iter 50-60 --lr_decrease_rate 0.1 --save_best_features --parallel '\n",
    "print(cmd)\n",
    "!{cmd}"
   ]
  },
  {
   "cell_type": "code",
   "execution_count": null,
   "id": "3877301b",
   "metadata": {
    "collapsed": true
   },
   "outputs": [],
   "source": [
    "cmd = 'python Main.py --task_name mosiDec52.1 --dataset mosi_Dec --log_scale 0-0-0 --normalize 0-0-0 --batch_size 128 --num_workers 8  '+\\\n",
    "'--d_common 128 --encoders gru --activate gelu --time_len 100 --d_hiddens 50-3-128=10-3-128 --d_outs 50-3-128=10-3-128 '+\\\n",
    "'--dropout_mlp 0.0-0.0-0.0 --dropout 0.1-0.1-0.1-0.1 --bias --res_project 1-1 '+\\\n",
    "'--critic_type concat --baseline_type constant --bound_type nwj --mi_lr_rate 1.0 --cmi_lr_rate 1.0 '+\\\n",
    "'--loss_mi_coefficient1 1-1-1-1-1-1-1-1-1-1-1 --loss_mi_coefficient2 0.005-0.005-0.005-0.005-0.005-0.005-0.005-0.005 '+\\\n",
    "'--k_neighbor 2 --radius 1.0 --cmi_last_acticate sigmoid --stage1_n 2 '+\\\n",
    "'--seed 0 --loss MAE --gradient_clip 1.0 --epochs_num 70 --optm Adam --learning_rate 4e-3 --bert_freeze no --bert_lr_rate 0.01 '+\\\n",
    "'--weight_decay 0.0 --lr_decrease multi_step --lr_decrease_iter 50-60 --lr_decrease_rate 0.1 --save_best_features --parallel '\n",
    "print(cmd)\n",
    "!{cmd}"
   ]
  },
  {
   "cell_type": "code",
   "execution_count": null,
   "id": "4e0a39f6",
   "metadata": {
    "collapsed": true
   },
   "outputs": [],
   "source": [
    "cmd = 'python Main.py --task_name mosiDec52.1 --dataset mosi_Dec --log_scale 0-0-0 --normalize 0-1-1 --batch_size 128 --num_workers 8  '+\\\n",
    "'--d_common 128 --encoders gru --activate gelu --time_len 100 --d_hiddens 50-3-128=10-3-128 --d_outs 50-3-128=10-3-128 '+\\\n",
    "'--dropout_mlp 0.0-0.0-0.0 --dropout 0.1-0.1-0.1-0.1 --bias --res_project 1-1 '+\\\n",
    "'--critic_type separate --baseline_type constant --bound_type infonce --mi_lr_rate 1.0 --cmi_lr_rate 1.0 '+\\\n",
    "'--loss_mi_coefficient1 1-1-1-1-1-1-1-1-1-1-1 --loss_mi_coefficient2 0.01-0.01-0.01-0.01-0.01-0.01-0.01-0.01 '+\\\n",
    "'--k_neighbor 2 --radius 1.0 --cmi_last_acticate sigmoid --stage1_n 2 '+\\\n",
    "'--seed 0 --loss MAE --gradient_clip 1.5 --epochs_num 70 --optm Adam --learning_rate 4e-3 --bert_freeze no --bert_lr_rate 0.01 '+\\\n",
    "'--weight_decay 0.0 --lr_decrease multi_step --lr_decrease_iter 9-60 --lr_decrease_rate 0.1 --save_best_features --parallel '\n",
    "print(cmd)\n",
    "!{cmd}"
   ]
  },
  {
   "cell_type": "code",
   "execution_count": null,
   "id": "6b022d69",
   "metadata": {
    "collapsed": true
   },
   "outputs": [],
   "source": [
    "cmd = 'python Main.py --task_name mosiDec52.1 --dataset mosi_Dec --log_scale 0-0-0 --normalize 0-1-1 --batch_size 128 --num_workers 8  '+\\\n",
    "'--d_common 128 --encoders gru --activate gelu --time_len 100 --d_hiddens 50-3-128=10-3-128 --d_outs 50-3-128=10-3-128 '+\\\n",
    "'--dropout_mlp 0.0-0.0-0.0 --dropout 0.0-0.0-0.0-0.0 --bias --res_project 1-1 '+\\\n",
    "'--critic_type separate --baseline_type constant --bound_type infonce --mi_lr_rate 1.0 --cmi_lr_rate 1.0 '+\\\n",
    "'--loss_mi_coefficient1 1-1-1-1-1-1-1-1-1-1-1 --loss_mi_coefficient2 0.01-0.01-0.01-0.01-0.01-0.01-0.01-0.01 '+\\\n",
    "'--k_neighbor 2 --radius 1.0 --cmi_last_acticate sigmoid --stage1_n 2 '+\\\n",
    "'--seed 0 --loss MAE --gradient_clip 1.5 --epochs_num 70 --optm Adam --learning_rate 4e-3 --bert_freeze no --bert_lr_rate 0.01 '+\\\n",
    "'--weight_decay 0.0 --lr_decrease multi_step --lr_decrease_iter 50-60 --lr_decrease_rate 0.1 --save_best_features --parallel '\n",
    "print(cmd)\n",
    "!{cmd}"
   ]
  },
  {
   "cell_type": "code",
   "execution_count": null,
   "id": "2bd070bb",
   "metadata": {
    "collapsed": true
   },
   "outputs": [],
   "source": [
    "cmd = 'python Main.py --task_name mosiDec52.1 --dataset mosi_Dec --log_scale 0-0-0 --normalize 0-1-1 --batch_size 128 --num_workers 8  '+\\\n",
    "'--d_common 128 --encoders gru --activate gelu --time_len 100 --d_hiddens 50-3-128=10-3-128 --d_outs 50-3-128=10-3-128 '+\\\n",
    "'--dropout_mlp 0.0-0.0-0.0 --dropout 0.0-0.0-0.0-0.0 --bias --res_project 1-1 '+\\\n",
    "'--critic_type separate --baseline_type constant --bound_type infonce --mi_lr_rate 1.0 --cmi_lr_rate 1.0 '+\\\n",
    "'--loss_mi_coefficient1 1-1-1-1-1-1-1-1-1-1-1 --loss_mi_coefficient2 0.01-0.01-0.01-0.01-0.01-0.01-0.01-0.01 '+\\\n",
    "'--k_neighbor 2 --radius 1.0 --cmi_last_acticate sigmoid --stage1_n 2 '+\\\n",
    "'--seed 0 --loss MAE --gradient_clip 1.5 --epochs_num 70 --optm Adam --learning_rate 4e-3 --bert_freeze no --bert_lr_rate 0.01 '+\\\n",
    "'--weight_decay 0.0 --lr_decrease multi_step --lr_decrease_iter 50-60 --lr_decrease_rate 0.1 --save_best_features --parallel '\n",
    "print(cmd)\n",
    "!{cmd}"
   ]
  },
  {
   "cell_type": "code",
   "execution_count": null,
   "id": "712503a8",
   "metadata": {
    "collapsed": true
   },
   "outputs": [],
   "source": [
    "cmd = 'python Main.py --task_name mosiDecAll --dataset mosi_Dec --log_scale 0-0-0 --normalize 0-1-1 --batch_size 64 --num_workers 8  '+\\\n",
    "'--d_common 128 --encoders gru --activate relu --time_len 150 --d_hiddens 50-3-128=10-3-128 --d_outs 50-3-128=10-3-128 '+\\\n",
    "'--dropout_mlp 0.0-0.0-0.0 --dropout 0.1-0.1-0.1-0.1 --bias --res_project 1-1 '+\\\n",
    "'--critic_type separate --baseline_type constant --bound_type infonce --mi_lr_rate 1.0 --cmi_lr_rate 1.0 '+\\\n",
    "'--loss_mi_coefficient1 1-1-1-1-1-1-1-1-1-1-1 --loss_mi_coefficient2 0.1-0.1-0.1-0.1-0.1-0.1-0.1-0.1 '+\\\n",
    "'--k_neighbor 2 --radius 1.0 --cmi_last_acticate sigmoid --stage1_n 2 '+\\\n",
    "'--seed 5 --loss MAE --gradient_clip 1.5 --epochs_num 70 --optm Adam --learning_rate 1e-3 --bert_freeze no --bert_lr_rate 0.01 '+\\\n",
    "'--weight_decay 0.0 --lr_decrease multi_step --lr_decrease_iter 50-60 --lr_decrease_rate 0.1 --save_best_features --parallel '\n",
    "print(cmd)\n",
    "!{cmd}"
   ]
  },
  {
   "cell_type": "code",
   "execution_count": null,
   "id": "940cbb32",
   "metadata": {
    "collapsed": true
   },
   "outputs": [],
   "source": [
    "# 0.695\n",
    "cmd = 'python Main.py --task_name mosiDecAll2 --dataset mosi_Dec --log_scale 0-0-0 --normalize 0-1-1 --batch_size 64 --num_workers 8  '+\\\n",
    "'--d_common 128 --encoders gru --activate relu --time_len 150 --d_hiddens 50-3-128=10-3-128 --d_outs 50-3-128=10-3-128 '+\\\n",
    "'--dropout_mlp 0.0-0.0-0.0 --dropout 0.1-0.1-0.1-0.1 --bias --res_project 1-1 '+\\\n",
    "'--critic_type separate --baseline_type constant --bound_type infonce --mi_lr_rate 1.0 --cmi_lr_rate 1.0 '+\\\n",
    "'--loss_mi_coefficient1 1-1-1-1-1-1-1-1-1-1-1 --loss_mi_coefficient2 0.1-0.1-0.1-0.1-0.1-0.1-0.1-0.1 '+\\\n",
    "'--k_neighbor 2 --radius 1.0 --cmi_last_acticate sigmoid --stage1_n 2 '+\\\n",
    "'--seed 6 --loss MAE --gradient_clip 1.5 --epochs_num 70 --optm Adam --learning_rate 1e-3 --bert_freeze no --bert_lr_rate 0.01 '+\\\n",
    "'--weight_decay 0.0 --lr_decrease multi_step --lr_decrease_iter 50-60 --lr_decrease_rate 0.1 --save_best_features --parallel '\n",
    "print(cmd)\n",
    "!{cmd}"
   ]
  },
  {
   "cell_type": "code",
   "execution_count": null,
   "id": "da9013ff",
   "metadata": {
    "collapsed": true
   },
   "outputs": [],
   "source": [
    "cmd = 'python Main.py --task_name mosiDecAll2.1 --dataset mosi_Dec --log_scale 0-0-0 --normalize 0-1-1 --batch_size 64 --num_workers 8  '+\\\n",
    "'--d_common 128 --encoders gru --activate relu --time_len 150 --d_hiddens 50-3-128=10-3-128 --d_outs 50-3-128=10-3-128 '+\\\n",
    "'--dropout_mlp 0.0-0.0-0.0 --dropout 0.1-0.1-0.1-0.1 --bias --res_project 1-1 '+\\\n",
    "'--critic_type separate --baseline_type constant --bound_type infonce --mi_lr_rate 4.0 --cmi_lr_rate 4.0 '+\\\n",
    "'--loss_mi_coefficient1 1-1-1-1-1-1-1-1-1-1-1 --loss_mi_coefficient2 0.1-0.1-0.1-0.1-0.1-0.1-0.1-0.1 '+\\\n",
    "'--k_neighbor 2 --radius 1.0 --cmi_last_acticate sigmoid --stage1_n 2 '+\\\n",
    "'--seed 6 --loss MAE --gradient_clip 1.5 --epochs_num 70 --optm Adam --learning_rate 1e-3 --bert_freeze no --bert_lr_rate 0.01 '+\\\n",
    "'--weight_decay 0.0 --lr_decrease multi_step --lr_decrease_iter 50-60 --lr_decrease_rate 0.1 --save_best_features --parallel '\n",
    "print(cmd)\n",
    "!{cmd}"
   ]
  },
  {
   "cell_type": "code",
   "execution_count": null,
   "id": "ed9cb66b",
   "metadata": {
    "collapsed": true
   },
   "outputs": [],
   "source": [
    "cmds = []\n",
    "for i in [33, 44, 55, 77, 88, 99,]:\n",
    "    cmd = 'python Main.py --task_name mosiDecAll'+str(i)+' --dataset mosi_Dec --log_scale 0-0-0 --normalize 0-0-0 --batch_size 64 --num_workers 8  '+\\\n",
    "'--d_common 128 --encoders gru --activate relu --time_len 150 --d_hiddens 50-3-128=10-3-128 --d_outs 50-3-128=10-3-128 '+\\\n",
    "'--dropout_mlp 0.0-0.0-0.0 --dropout 0.1-0.1-0.1-0.1 --bias --res_project 1-1 '+\\\n",
    "'--critic_type separate --baseline_type constant --bound_type infonce --mi_lr_rate 1.0 --cmi_lr_rate 1.0 '+\\\n",
    "'--loss_mi_coefficient1 1-1-1-1-1-1-1-1-1-1-1 --loss_mi_coefficient2 0.1-0.1-0.1-0.1-0.3-0.1-0.1-0.1 '+\\\n",
    "'--k_neighbor 2 --radius 1.0 --cmi_last_acticate sigmoid --stage1_n 2 '+\\\n",
    "'--seed '+str(i)+' --loss MAE --gradient_clip 1.5 --epochs_num 50 --optm Adam --learning_rate 1e-3 --bert_freeze no --bert_lr_rate 0.01 '+\\\n",
    "'--weight_decay 0.0 --lr_decrease multi_step --lr_decrease_iter 50-60 --lr_decrease_rate 0.1 --save_best_features --parallel '\n",
    "    cmds.append(cmd)\n",
    "# print(cmds)\n",
    "\n",
    "for cmd in cmds:\n",
    "    !{cmd}"
   ]
  },
  {
   "cell_type": "code",
   "execution_count": null,
   "id": "afbcc77a",
   "metadata": {
    "collapsed": true
   },
   "outputs": [],
   "source": [
    "cmds = []\n",
    "for i in [111, 222, 333, 444, 555, 666, 777, 888, 999, 1111]:\n",
    "    cmd = 'python Main.py --task_name mosiDecAll'+str(i)+' --dataset mosi_Dec --log_scale 0-0-0 --normalize 0-0-0 --batch_size 64 --num_workers 8  '+\\\n",
    "'--d_common 128 --encoders gru --activate relu --time_len 150 --d_hiddens 50-3-128=20-3-128=10-3-128 --d_outs 50-3-128=20-3-128=10-3-128 '+\\\n",
    "'--dropout_mlp 0.0-0.0-0.0 --dropout 0.1-0.1-0.1-0.1 --bias --res_project 1-1-1 '+\\\n",
    "'--critic_type separate --baseline_type constant --bound_type infonce --mi_lr_rate 1.0 --cmi_lr_rate 1.0 '+\\\n",
    "'--loss_mi_coefficient1 1-1-1-1-1-1-1-1-1-1-1 --loss_mi_coefficient2 0.1-0.1-0.1-0.1-0.1-0.1-0.1-0.1 '+\\\n",
    "'--k_neighbor 2 --radius 1.0 --cmi_last_acticate sigmoid --stage1_n 2 '+\\\n",
    "'--seed '+str(i)+' --loss MAE --gradient_clip 1.5 --epochs_num 50 --optm Adam --learning_rate 1e-3 --bert_freeze no --bert_lr_rate 0.01 '+\\\n",
    "'--weight_decay 0.0 --lr_decrease multi_step --lr_decrease_iter 50-60 --lr_decrease_rate 0.1 --save_best_features --parallel '\n",
    "    cmds.append(cmd)\n",
    "# print(cmds)\n",
    "\n",
    "for cmd in cmds:\n",
    "    !{cmd}"
   ]
  },
  {
   "cell_type": "code",
   "execution_count": null,
   "id": "33a3a2ed",
   "metadata": {
    "collapsed": true
   },
   "outputs": [],
   "source": [
    "cmd = 'python Main.py --task_name mosiDecAll2341 --dataset mosi_50 --text glove --log_scale 0-0-0 --normalize 0-1-1 --batch_size 64 --num_workers 8  '+\\\n",
    "'--d_common 128 --encoders gru --activate relu --time_len 50 --d_hiddens 50-3-128=10-3-128 --d_outs 50-3-128=10-3-128 '+\\\n",
    "'--dropout_mlp 0.0-0.0-0.0 --dropout 0.1-0.1-0.1-0.1 --bias --res_project 1-1 '+\\\n",
    "'--critic_type separate --baseline_type constant --bound_type infonce --mi_lr_rate 1.0 --cmi_lr_rate 1.0 '+\\\n",
    "'--loss_mi_coefficient1 1-1-1-1-1-1-1-1-1-1-1 --loss_mi_coefficient2 0.1-0.1-0.1-0.1-0.1-0.1-0.1-0.1 '+\\\n",
    "'--k_neighbor 2 --radius 1.0 --cmi_last_acticate sigmoid --stage1_n 2 '+\\\n",
    "'--seed 6 --loss MAE --gradient_clip 1.5 --epochs_num 70 --optm Adam --learning_rate 1e-3 --bert_freeze no --bert_lr_rate 0.01 '+\\\n",
    "'--weight_decay 0.0 --lr_decrease multi_step --lr_decrease_iter 50-60 --lr_decrease_rate 0.1 --save_best_features --parallel '\n",
    "print(cmd)\n",
    "!{cmd}"
   ]
  },
  {
   "cell_type": "code",
   "execution_count": null,
   "id": "378af1b8",
   "metadata": {
    "collapsed": true
   },
   "outputs": [],
   "source": [
    "cmd = 'python Main.py --task_name AVEC --dataset avec2019 --audio mfcc --video au --log_scale 0-0-0 --normalize 0-0-0 --batch_size 32 --num_workers 8  '+\\\n",
    "'--d_common 128 --encoders gru --activate relu --time_len 100 --d_hiddens 50-3-128=10-3-128 --d_outs 50-3-128=10-3-128 '+\\\n",
    "'--dropout_mlp 0.0-0.0-0.0 --dropout 0.1-0.1-0.1-0.1 --bias --res_project 1-1 '+\\\n",
    "'--critic_type separate --baseline_type constant --bound_type infonce --mi_lr_rate 1.0 --cmi_lr_rate 1.0 '+\\\n",
    "'--loss_mi_coefficient1 1-1-1-1-1-1-1-1-1-1-1 --loss_mi_coefficient2 0.1-0.1-0.1-0.1-0.1-0.1-0.1-0.1 '+\\\n",
    "'--k_neighbor 2 --radius 1.0 --cmi_last_acticate sigmoid --stage1_n 2 '+\\\n",
    "'--seed 6 --loss CCC --gradient_clip 1.5 --epochs_num 70 --optm Adam --learning_rate 1e-3 --bert_freeze no --bert_lr_rate 0.01 '+\\\n",
    "'--weight_decay 0.0 --lr_decrease multi_step --lr_decrease_iter 50-60 --lr_decrease_rate 0.1 --save_best_features --parallel '\n",
    "print(cmd)\n",
    "!{cmd}"
   ]
  },
  {
   "cell_type": "code",
   "execution_count": null,
   "id": "513c19d2",
   "metadata": {
    "collapsed": true
   },
   "outputs": [],
   "source": [
    "cmd = 'python Main.py --task_name mosiDecAll239 --dataset mosi_Dec --log_scale 0-0-0 --normalize 0-0-0 --batch_size 64 --num_workers 8  '+\\\n",
    "'--d_common 128 --encoders gru --activate tanh --time_len 150 --d_hiddens 50-3-128=10-3-128 --d_outs 50-3-128=10-3-128 '+\\\n",
    "'--dropout_mlp 0.0-0.0-0.0 --dropout 0.1-0.1-0.1-0.1 --bias --res_project 1-1 '+\\\n",
    "'--critic_type separate --baseline_type constant --bound_type infonce --mi_lr_rate 1.0 --cmi_lr_rate 1.0 '+\\\n",
    "'--loss_mi_coefficient1 1-1-1-1-1-1-1-1-1-1-1 --loss_mi_coefficient2 0.1-0.1-0.1-0.1-0.1-0.1-0.1-0.1 '+\\\n",
    "'--k_neighbor 2 --radius 1.0 --cmi_last_acticate sigmoid --stage1_n 2 '+\\\n",
    "'--seed 6 --loss MAE --gradient_clip 1.5 --epochs_num 70 --optm Adam --learning_rate 1e-3 --bert_freeze no --bert_lr_rate 0.01 '+\\\n",
    "'--weight_decay 0.0 --lr_decrease multi_step --lr_decrease_iter 50-60 --lr_decrease_rate 0.1 --save_best_features --parallel '\n",
    "print(cmd)\n",
    "!{cmd}"
   ]
  },
  {
   "cell_type": "code",
   "execution_count": null,
   "id": "ae515b58",
   "metadata": {
    "scrolled": true
   },
   "outputs": [],
   "source": [
    "cmd = 'python Main.py --task_name mosiDecAll235 --dataset mosi_Dec --log_scale 0-0-0 --normalize 0-1-1 --batch_size 64 --num_workers 8  '+\\\n",
    "'--d_common 128 --encoders gru --activate relu --time_len 150 --d_hiddens 50-3-128=10-3-128 --d_outs 50-3-128=10-3-128 '+\\\n",
    "'--dropout_mlp 0.0-0.0-0.0 --dropout 0.1-0.1-0.1-0.1 --bias --res_project 1-1 '+\\\n",
    "'--critic_type separate --baseline_type constant --bound_type infonce --mi_lr_rate 1.0 --cmi_lr_rate 1.0 '+\\\n",
    "'--loss_mi_coefficient1 1-1-1-1-1-1-1-1-1-1-1 --loss_mi_coefficient2 0.1-0.1-0.1-0.1-0.1-0.1-0.1-0.1 '+\\\n",
    "'--k_neighbor 2 --radius 1.0 --cmi_last_acticate sigmoid --stage1_n 2 '+\\\n",
    "'--seed 6 --loss MSE --gradient_clip 1.5 --epochs_num 70 --optm Adam --learning_rate 1e-3 --bert_freeze no --bert_lr_rate 0.01 '+\\\n",
    "'--weight_decay 0.0 --lr_decrease multi_step --lr_decrease_iter 50-60 --lr_decrease_rate 0.1 --save_best_features --parallel '\n",
    "print(cmd)\n",
    "!{cmd}"
   ]
  },
  {
   "cell_type": "code",
   "execution_count": null,
   "id": "19ea031f",
   "metadata": {
    "collapsed": true
   },
   "outputs": [],
   "source": [
    "cmd = 'python Main.py --task_name mosiDecAll236 --dataset mosi_Dec --log_scale 0-0-0 --normalize 0-1-1 --batch_size 64 --num_workers 8  '+\\\n",
    "'--d_common 128 --encoders gru --activate relu --time_len 150 --d_hiddens 50-3-128=10-3-128 --d_outs 50-3-128=10-3-128 '+\\\n",
    "'--dropout_mlp 0.0-0.0-0.0 --dropout 0.1-0.1-0.1-0.1 --bias --res_project 1-1 '+\\\n",
    "'--critic_type separate --baseline_type constant --bound_type infonce --mi_lr_rate 1.0 --cmi_lr_rate 1.0 '+\\\n",
    "'--loss_mi_coefficient1 1-1-1-1-1-1-1-1-1-1-1 --loss_mi_coefficient2 0.1-0.1-0.1-0.1-0.1-0.1-0.1-0.1 '+\\\n",
    "'--k_neighbor 2 --radius 1.0 --cmi_last_acticate sigmoid --stage1_n 2 '+\\\n",
    "'--seed 6 --loss RMSE --gradient_clip 1.5 --epochs_num 70 --optm Adam --learning_rate 1e-3 --bert_freeze no --bert_lr_rate 0.01 '+\\\n",
    "'--weight_decay 0.0 --lr_decrease multi_step --lr_decrease_iter 50-60 --lr_decrease_rate 0.1 --save_best_features --parallel '\n",
    "print(cmd)\n",
    "!{cmd}"
   ]
  },
  {
   "cell_type": "code",
   "execution_count": null,
   "id": "658b253d",
   "metadata": {
    "collapsed": true
   },
   "outputs": [],
   "source": [
    "cmd = 'python Main.py --task_name mosiDecAll237 --dataset mosi_Dec --log_scale 0-0-0 --normalize 0-1-1 --batch_size 64 --num_workers 8  '+\\\n",
    "'--d_common 128 --encoders gru --activate relu --time_len 150 --d_hiddens 50-3-128 --d_outs 10-3-128 '+\\\n",
    "'--dropout_mlp 0.0-0.0-0.0 --dropout 0.1-0.1-0.1-0.1 --bias --res_project 1 '+\\\n",
    "'--critic_type separate --baseline_type constant --bound_type infonce --mi_lr_rate 1.0 --cmi_lr_rate 1.0 '+\\\n",
    "'--loss_mi_coefficient1 1-1-1-1-1-1-1-1-1-1-1 --loss_mi_coefficient2 0.1-0.1-0.1-0.1-0.1-0.1-0.1-0.1 '+\\\n",
    "'--k_neighbor 2 --radius 1.0 --cmi_last_acticate sigmoid --stage1_n 2 '+\\\n",
    "'--seed 6 --loss MAE --gradient_clip 1.5 --epochs_num 70 --optm Adam --learning_rate 1e-3 --bert_freeze no --bert_lr_rate 0.01 '+\\\n",
    "'--weight_decay 0.0 --lr_decrease multi_step --lr_decrease_iter 50-60 --lr_decrease_rate 0.1 --save_best_features --parallel '\n",
    "print(cmd)\n",
    "!{cmd}"
   ]
  },
  {
   "cell_type": "code",
   "execution_count": null,
   "id": "1bdd369a",
   "metadata": {
    "collapsed": true
   },
   "outputs": [],
   "source": [
    "cmd = 'python Main.py --task_name mosiDecAll238 --dataset mosi_Dec --log_scale 0-0-0 --normalize 0-1-1 --batch_size 64 --num_workers 8  '+\\\n",
    "'--d_common 128 --encoders gru --activate relu --time_len 150 --d_hiddens 50-3-128=20-3-128=10-3-128 --d_outs 50-3-128=20-3-128=10-3-128 '+\\\n",
    "'--dropout_mlp 0.0-0.0-0.0 --dropout 0.1-0.1-0.1-0.1 --bias --res_project 1-1-1 '+\\\n",
    "'--critic_type separate --baseline_type constant --bound_type infonce --mi_lr_rate 1.0 --cmi_lr_rate 1.0 '+\\\n",
    "'--loss_mi_coefficient1 1-1-1-1-1-1-1-1-1-1-1 --loss_mi_coefficient2 0.1-0.1-0.1-0.1-0.1-0.1-0.1-0.1 '+\\\n",
    "'--k_neighbor 2 --radius 1.0 --cmi_last_acticate sigmoid --stage1_n 2 '+\\\n",
    "'--seed 6 --loss MAE --gradient_clip 1.5 --epochs_num 70 --optm Adam --learning_rate 1e-3 --bert_freeze no --bert_lr_rate 0.01 '+\\\n",
    "'--weight_decay 0.0 --lr_decrease multi_step --lr_decrease_iter 50-60 --lr_decrease_rate 0.1 --save_best_features --parallel '\n",
    "print(cmd)\n",
    "!{cmd}"
   ]
  },
  {
   "cell_type": "code",
   "execution_count": null,
   "id": "ae173bda",
   "metadata": {},
   "outputs": [],
   "source": []
  },
  {
   "cell_type": "code",
   "execution_count": null,
   "id": "bd75a39a",
   "metadata": {},
   "outputs": [],
   "source": []
  },
  {
   "cell_type": "code",
   "execution_count": null,
   "id": "90c9f002",
   "metadata": {
    "collapsed": true
   },
   "outputs": [],
   "source": [
    "cmds = []\n",
    "for i in range(1, 10):\n",
    "    cmd = 'python test.py'\n",
    "    cmds.append(cmd)\n",
    "# print(cmds)\n",
    "for cmd in cmds:\n",
    "    !{cmd}"
   ]
  },
  {
   "cell_type": "code",
   "execution_count": null,
   "id": "6ddcfb36",
   "metadata": {},
   "outputs": [],
   "source": []
  },
  {
   "cell_type": "code",
   "execution_count": null,
   "id": "e46481c0",
   "metadata": {},
   "outputs": [],
   "source": []
  },
  {
   "cell_type": "code",
   "execution_count": null,
   "id": "0543b311",
   "metadata": {
    "collapsed": true
   },
   "outputs": [],
   "source": [
    "cmd = 'python Main.py --task_name mosiDec51 --dataset mosi_Dec --log_scale 0-0-0 --batch_size 128 --num_workers 8  '+\\\n",
    "'--d_common 128 --encoders gru --activate gelu --time_len 100 --d_hiddens 50-3-128=10-3-128 --d_outs 50-3-128=10-3-128 '+\\\n",
    "'--dropout_mlp 0.0-0.0-0.0 --dropout 0.1-0.1-0.1-0.1 --bias --res_project 1-1 '+\\\n",
    "'--critic_type separate --baseline_type constant --bound_type infonce --mi_lr_rate 1.0 --cmi_lr_rate 1.0 '+\\\n",
    "'--loss_mi_coefficient1 1-1-1-1-1-1-1-1-1-1-1 --loss_mi_coefficient2 0.01-0.01-0.01-0.01-0.01-0.01-0.01-0.01 '+\\\n",
    "'--k_neighbor 2 --radius 1.0 --cmi_last_acticate sigmoid --stage1_n 2 '+\\\n",
    "'--seed 0 --loss RMSE --gradient_clip 1.0 --epochs_num 70 --optm Adam --learning_rate 4e-3 --bert_freeze no --bert_lr_rate 0.01 '+\\\n",
    "'--weight_decay 0.0 --lr_decrease multi_step --lr_decrease_iter 50-60 --lr_decrease_rate 0.1 --save_best_features --parallel '\n",
    "print(cmd)\n",
    "!{cmd}"
   ]
  },
  {
   "cell_type": "code",
   "execution_count": null,
   "id": "fafd7119",
   "metadata": {
    "collapsed": true
   },
   "outputs": [],
   "source": [
    "cmd = 'python Main.py --task_name mosiDec52 --dataset mosi_Dec --log_scale 0-0-0 --batch_size 128 --num_workers 8  '+\\\n",
    "'--d_common 128 --encoders gru --activate gelu --time_len 100 --d_hiddens 50-3-128=10-3-128 --d_outs 50-3-128=10-3-128 '+\\\n",
    "'--dropout_mlp 0.0-0.0-0.0 --dropout 0.1-0.1-0.1-0.1 --bias --res_project 1-1 '+\\\n",
    "'--critic_type separate --baseline_type constant --bound_type infonce --mi_lr_rate 1.0 --cmi_lr_rate 1.0 '+\\\n",
    "'--loss_mi_coefficient1 1-1-1-1-1-1-1-1-1-1-1 --loss_mi_coefficient2 0.001-0.001-0.001-0.001-0.001-0.001-0.001-0.001 '+\\\n",
    "'--k_neighbor 2 --radius 1.0 --cmi_last_acticate sigmoid --stage1_n 2 '+\\\n",
    "'--seed 0 --loss MAE --gradient_clip 1.0 --epochs_num 70 --optm Adam --learning_rate 4e-3 --bert_freeze no --bert_lr_rate 0.01 '+\\\n",
    "'--weight_decay 0.001 --lr_decrease multi_step --lr_decrease_iter 50-60 --lr_decrease_rate 0.1 --save_best_features --parallel '\n",
    "print(cmd)\n",
    "!{cmd}"
   ]
  },
  {
   "cell_type": "code",
   "execution_count": null,
   "id": "1c790ea6",
   "metadata": {},
   "outputs": [],
   "source": []
  },
  {
   "cell_type": "code",
   "execution_count": null,
   "id": "9171de77",
   "metadata": {
    "collapsed": true
   },
   "outputs": [],
   "source": [
    "cmd = 'python Main.py --task_name mosiDec6 --dataset mosi_Dec --log_scale 0-0-0 --batch_size 128 --num_workers 8  '+\\\n",
    "'--d_common 128 --encoders gru --activate gelu --time_len 100 --d_hiddens 50-3-128=10-3-128 --d_outs 50-3-128=10-3-128 '+\\\n",
    "'--dropout_mlp 0.0-0.0-0.0 --dropout 0.1-0.1-0.1-0.1 --bias --res_project 1-1 '+\\\n",
    "'--critic_type separate --baseline_type constant --bound_type infonce --mi_lr_rate 1.0 --cmi_lr_rate 1.0 '+\\\n",
    "'--loss_mi_coefficient1 1-1-1-1-1-1-1-1-1-1-1 --loss_mi_coefficient2 0.01-0.01-0.01-0.01-0.01-0.01-0.01-0.01 '+\\\n",
    "'--k_neighbor 4 --radius 1.0 --cmi_last_acticate sigmoid --stage1_n 2 '+\\\n",
    "'--seed 0 --loss MAE --gradient_clip 1.0 --epochs_num 70 --optm Adam --learning_rate 1e-3 --bert_freeze no --bert_lr_rate 0.01 '+\\\n",
    "'--weight_decay 0.0 --lr_decrease multi_step --lr_decrease_iter 50-60 --lr_decrease_rate 0.1 --save_best_features --parallel '\n",
    "print(cmd)\n",
    "!{cmd}"
   ]
  },
  {
   "cell_type": "code",
   "execution_count": null,
   "id": "d43044d8",
   "metadata": {
    "collapsed": true
   },
   "outputs": [],
   "source": [
    "cmd = 'python Main.py --task_name mosiDec7 --dataset mosi_Dec --log_scale 0-0-0 --batch_size 128 --num_workers 8  '+\\\n",
    "'--d_common 128 --encoders gru --activate gelu --time_len 100 --d_hiddens 50-3-128=10-3-128 --d_outs 50-3-128=10-3-128 '+\\\n",
    "'--dropout_mlp 0.0-0.0-0.0 --dropout 0.1-0.1-0.1-0.1 --bias --res_project 1-1 '+\\\n",
    "'--critic_type separate --baseline_type constant --bound_type infonce --mi_lr_rate 1.0 --cmi_lr_rate 1.0 '+\\\n",
    "'--loss_mi_coefficient1 1-1-1-1-1-1-1-1-1-1-1 --loss_mi_coefficient2 0.01-0.01-0.01-0.01-0.01-0.01-0.01-0.01 '+\\\n",
    "'--k_neighbor 4 --radius 1.0 --cmi_last_acticate sigmoid --stage1_n 2 '+\\\n",
    "'--seed 0 --loss MAE --gradient_clip 1.0 --epochs_num 70 --optm Adam --learning_rate 4e-4 --bert_freeze no --bert_lr_rate 0.01 '+\\\n",
    "'--weight_decay 0.0 --lr_decrease multi_step --lr_decrease_iter 50-60 --lr_decrease_rate 0.1 --save_best_features --parallel '\n",
    "print(cmd)\n",
    "!{cmd}"
   ]
  },
  {
   "cell_type": "code",
   "execution_count": null,
   "id": "3aa63a51",
   "metadata": {
    "collapsed": true
   },
   "outputs": [],
   "source": [
    "cmd = 'python Main.py --task_name mosiDec8 --dataset mosi_Dec --log_scale 0-0-0 --batch_size 128 --num_workers 8  '+\\\n",
    "'--d_common 128 --encoders gru --activate gelu --time_len 100 --d_hiddens 50-3-128=10-3-128 --d_outs 50-3-128=10-3-128 '+\\\n",
    "'--dropout_mlp 0.0-0.0-0.0 --dropout 0.1-0.1-0.1-0.1 --bias --res_project 1-1 '+\\\n",
    "'--critic_type separate --baseline_type constant --bound_type infonce --mi_lr_rate 1.0 --cmi_lr_rate 1.0 '+\\\n",
    "'--loss_mi_coefficient1 1-1-1-1-1-1-1-1-1-1-1 --loss_mi_coefficient2 0.01-0.01-0.01-0.01-0.01-0.01-0.01-0.01 '+\\\n",
    "'--k_neighbor 4 --radius 1.0 --cmi_last_acticate sigmoid --stage1_n 2 '+\\\n",
    "'--seed 0 --loss MAE --gradient_clip 1.0 --epochs_num 70 --optm Adam --learning_rate 1e-4 --bert_freeze no --bert_lr_rate 0.01 '+\\\n",
    "'--weight_decay 0.0 --lr_decrease multi_step --lr_decrease_iter 50-60 --lr_decrease_rate 0.1 --save_best_features --parallel '\n",
    "print(cmd)\n",
    "!{cmd}"
   ]
  },
  {
   "cell_type": "code",
   "execution_count": null,
   "id": "42f4f205",
   "metadata": {
    "collapsed": true
   },
   "outputs": [],
   "source": [
    "cmd = 'python Main.py --task_name mosiDec9 --dataset mosi_Dec --log_scale 0-0-0 --batch_size 128 --num_workers 8  '+\\\n",
    "'--d_common 128 --encoders gru --activate gelu --time_len 100 --d_hiddens 50-3-128=10-3-128 --d_outs 50-3-128=10-3-128 '+\\\n",
    "'--dropout_mlp 0.0-0.0-0.0 --dropout 0.1-0.1-0.1-0.1 --bias --res_project 1-1 '+\\\n",
    "'--critic_type separate --baseline_type constant --bound_type infonce --mi_lr_rate 1.0 --cmi_lr_rate 1.0 '+\\\n",
    "'--loss_mi_coefficient1 1-1-1-1-1-1-1-1-1-1-1 --loss_mi_coefficient2 0.01-0.01-0.01-0.01-0.01-0.01-0.01-0.01 '+\\\n",
    "'--k_neighbor 4 --radius 1.0 --cmi_last_acticate hardtanh --stage1_n 2 '+\\\n",
    "'--seed 0 --loss MAE --gradient_clip 1.0 --epochs_num 70 --optm Adam --learning_rate 1e-3 --bert_freeze no --bert_lr_rate 0.01 '+\\\n",
    "'--weight_decay 0.0 --lr_decrease multi_step --lr_decrease_iter 50-60 --lr_decrease_rate 0.1 --save_best_features --parallel '\n",
    "print(cmd)\n",
    "!{cmd}"
   ]
  },
  {
   "cell_type": "code",
   "execution_count": null,
   "id": "a0a8d00f",
   "metadata": {
    "collapsed": true
   },
   "outputs": [],
   "source": [
    "cmd = 'python Main.py --task_name mosiDec91 --dataset mosi_Dec --log_scale 0-0-0 --batch_size 128 --num_workers 8  '+\\\n",
    "'--d_common 128 --encoders gru --activate gelu --time_len 100 --d_hiddens 50-3-128=10-3-128 --d_outs 50-3-128=10-3-128 '+\\\n",
    "'--dropout_mlp 0.0-0.0-0.0 --dropout 0.1-0.1-0.1-0.1 --bias --res_project 1-1 '+\\\n",
    "'--critic_type separate --baseline_type constant --bound_type infonce --mi_lr_rate 1.0 --cmi_lr_rate 1.0 '+\\\n",
    "'--loss_mi_coefficient1 1-1-1-1-1-1-1-1-1-1-1 --loss_mi_coefficient2 0.01-0.01-0.01-0.01-0.01-0.01-0.01-0.01 '+\\\n",
    "'--k_neighbor 4 --radius 1.0 --cmi_last_acticate sigmoid --stage1_n 2 '+\\\n",
    "'--seed 1 --loss MAE --gradient_clip 1.0 --epochs_num 70 --optm Adam --learning_rate 1e-3 --bert_freeze no --bert_lr_rate 0.01 '+\\\n",
    "'--weight_decay 0.0 --lr_decrease multi_step --lr_decrease_iter 50-60 --lr_decrease_rate 0.1 --save_best_features --parallel '\n",
    "print(cmd)\n",
    "!{cmd}"
   ]
  },
  {
   "cell_type": "code",
   "execution_count": null,
   "id": "039642b0",
   "metadata": {
    "collapsed": true
   },
   "outputs": [],
   "source": [
    "cmd = 'python Main.py --task_name mosiDec91 --dataset mosi_Dec --log_scale 0-0-0 --batch_size 128 --num_workers 8  '+\\\n",
    "'--d_common 128 --encoders gru --activate gelu --time_len 100 --d_hiddens 50-3-128=10-3-128 --d_outs 50-3-128=10-3-128 '+\\\n",
    "'--dropout_mlp 0.0-0.0-0.0 --dropout 0.1-0.1-0.1-0.1 --bias --res_project 1-1 '+\\\n",
    "'--critic_type separate --baseline_type constant --bound_type infonce --mi_lr_rate 1.0 --cmi_lr_rate 1.0 '+\\\n",
    "'--loss_mi_coefficient1 1-1-1-1-1-1-1-1-1-1-1 --loss_mi_coefficient2 0.01-0.01-0.01-0.01-0.01-0.01-0.01-0.01 '+\\\n",
    "'--k_neighbor 4 --radius 1.0 --cmi_last_acticate sigmoid --stage1_n 2 '+\\\n",
    "'--seed 2 --loss MAE --gradient_clip 1.0 --epochs_num 70 --optm Adam --learning_rate 1e-3 --bert_freeze no --bert_lr_rate 0.01 '+\\\n",
    "'--weight_decay 0.0 --lr_decrease multi_step --lr_decrease_iter 50-60 --lr_decrease_rate 0.1 --save_best_features --parallel '\n",
    "print(cmd)\n",
    "!{cmd}"
   ]
  },
  {
   "cell_type": "code",
   "execution_count": null,
   "id": "4fad23fb",
   "metadata": {
    "collapsed": true
   },
   "outputs": [],
   "source": [
    "cmd = 'python Main.py --task_name mosiDec92 --dataset mosi_Dec --log_scale 0-0-0 --batch_size 128 --num_workers 8  '+\\\n",
    "'--d_common 128 --encoders gru --activate gelu --time_len 100 --d_hiddens 50-3-128=10-3-128 --d_outs 50-3-128=10-3-128 '+\\\n",
    "'--dropout_mlp 0.0-0.0-0.0 --dropout 0.1-0.1-0.1-0.1 --bias --res_project 1-1 '+\\\n",
    "'--critic_type separate --baseline_type constant --bound_type infonce --mi_lr_rate 1.0 --cmi_lr_rate 1.0 '+\\\n",
    "'--loss_mi_coefficient1 1-1-1-1-1-1-1-1-1-1-1 --loss_mi_coefficient2 0.01-0.01-0.01-0.01-0.01-0.01-0.01-0.01 '+\\\n",
    "'--k_neighbor 4 --radius 1.0 --cmi_last_acticate sigmoid --stage1_n 2 '+\\\n",
    "'--seed 3 --loss MAE --gradient_clip 1.0 --epochs_num 70 --optm Adam --learning_rate 1e-3 --bert_freeze no --bert_lr_rate 0.01 '+\\\n",
    "'--weight_decay 0.0 --lr_decrease multi_step --lr_decrease_iter 50-60 --lr_decrease_rate 0.1 --save_best_features --parallel '\n",
    "print(cmd)\n",
    "!{cmd}"
   ]
  },
  {
   "cell_type": "code",
   "execution_count": null,
   "id": "7f74e77d",
   "metadata": {
    "collapsed": true
   },
   "outputs": [],
   "source": [
    "cmd = 'python Main.py --task_name mosiDec93 --dataset mosi_Dec --log_scale 0-0-0 --batch_size 128 --num_workers 8  '+\\\n",
    "'--d_common 128 --encoders gru --activate gelu --time_len 100 --d_hiddens 50-3-128=10-3-128 --d_outs 50-3-128=10-3-128 '+\\\n",
    "'--dropout_mlp 0.0-0.0-0.0 --dropout 0.1-0.1-0.1-0.1 --bias --res_project 1-1 '+\\\n",
    "'--critic_type separate --baseline_type constant --bound_type infonce --mi_lr_rate 1.0 --cmi_lr_rate 1.0 '+\\\n",
    "'--loss_mi_coefficient1 1-1-1-1-1-1-1-1-1-1-1 --loss_mi_coefficient2 0.01-0.01-0.01-0.01-0.01-0.01-0.01-0.01 '+\\\n",
    "'--k_neighbor 4 --radius 1.0 --cmi_last_acticate sigmoid --stage1_n 2 '+\\\n",
    "'--seed 2 --loss MAE --gradient_clip 1.0 --epochs_num 70 --optm Adam --learning_rate 1e-3 --bert_freeze no --bert_lr_rate 0.01 '+\\\n",
    "'--weight_decay 0.0 --lr_decrease multi_step --lr_decrease_iter 50-60 --lr_decrease_rate 0.1 --save_best_features --parallel '\n",
    "print(cmd)\n",
    "!{cmd}"
   ]
  },
  {
   "cell_type": "code",
   "execution_count": null,
   "id": "c94738f8",
   "metadata": {
    "collapsed": true
   },
   "outputs": [],
   "source": [
    "cmd = 'python Main.py --task_name mosiDec94 --dataset mosi_Dec --log_scale 0-0-0 --batch_size 128 --num_workers 8  '+\\\n",
    "'--d_common 128 --encoders gru --activate gelu --time_len 100 --d_hiddens 50-3-128=10-3-128 --d_outs 50-3-128=10-3-128 '+\\\n",
    "'--dropout_mlp 0.0-0.0-0.0 --dropout 0.1-0.1-0.1-0.1 --bias --res_project 1-1 '+\\\n",
    "'--critic_type separate --baseline_type constant --bound_type infonce --mi_lr_rate 1.0 --cmi_lr_rate 1.0 '+\\\n",
    "'--loss_mi_coefficient1 1-1-1-1-1-1-1-1-1-1-1 --loss_mi_coefficient2 0.01-0.01-0.01-0.01-0.01-0.01-0.01-0.01 '+\\\n",
    "'--k_neighbor 4 --radius 1.0 --cmi_last_acticate sigmoid --stage1_n 2 '+\\\n",
    "'--seed 3 --loss MAE --gradient_clip 1.0 --epochs_num 70 --optm Adam --learning_rate 1e-3 --bert_freeze no --bert_lr_rate 0.01 '+\\\n",
    "'--weight_decay 0.0 --lr_decrease multi_step --lr_decrease_iter 50-60 --lr_decrease_rate 0.1 --save_best_features --parallel '\n",
    "print(cmd)\n",
    "!{cmd}"
   ]
  },
  {
   "cell_type": "code",
   "execution_count": null,
   "id": "383e952e",
   "metadata": {
    "collapsed": true
   },
   "outputs": [],
   "source": [
    "cmd = 'python Main.py --task_name mosiDec95 --dataset mosi_Dec --log_scale 0-0-0 --batch_size 128 --num_workers 8  '+\\\n",
    "'--d_common 128 --encoders gru --activate gelu --time_len 100 --d_hiddens 50-3-128=10-3-128 --d_outs 50-3-128=10-3-128 '+\\\n",
    "'--dropout_mlp 0.0-0.0-0.0 --dropout 0.1-0.1-0.1-0.1 --bias --res_project 1-1 '+\\\n",
    "'--critic_type separate --baseline_type constant --bound_type infonce --mi_lr_rate 1.0 --cmi_lr_rate 1.0 '+\\\n",
    "'--loss_mi_coefficient1 1-1-1-1-1-1-1-1-1-1-1 --loss_mi_coefficient2 0.01-0.01-0.01-0.01-0.01-0.01-0.01-0.01 '+\\\n",
    "'--k_neighbor 4 --radius 1.0 --cmi_last_acticate sigmoid --stage1_n 2 '+\\\n",
    "'--seed 4 --loss MAE --gradient_clip 1.0 --epochs_num 70 --optm Adam --learning_rate 1e-3 --bert_freeze no --bert_lr_rate 0.01 '+\\\n",
    "'--weight_decay 0.0 --lr_decrease multi_step --lr_decrease_iter 50-60 --lr_decrease_rate 0.1 --save_best_features --parallel '\n",
    "print(cmd)\n",
    "!{cmd}"
   ]
  },
  {
   "cell_type": "code",
   "execution_count": null,
   "id": "37a4b123",
   "metadata": {},
   "outputs": [],
   "source": [
    "cmd = 'python Main.py --task_name mosiDecInv --dataset mosi_Dec --log_scale 0-0-0 --batch_size 128 --num_workers 8  '+\\\n",
    "'--d_common 128 --encoders gru --activate gelu --time_len 100 --d_hiddens 50-3-128=10-3-128 --d_outs 50-3-128=10-3-128 '+\\\n",
    "'--dropout_mlp 0.0-0.0-0.0 --dropout 0.1-0.1-0.1-0.1 --bias --res_project 1-1 '+\\\n",
    "'--critic_type separate --baseline_type constant --bound_type infonce --mi_lr_rate 1.0 --cmi_lr_rate 1.0 '+\\\n",
    "'--loss_mi_coefficient1 1-1-1-1-1-1-1-1-1-1-1 --loss_mi_coefficient2 0.0-0.0-0.0-1.5-0.0-0.0-0.0-0.0 '+\\\n",
    "'--k_neighbor 4 --radius 1.0 --cmi_last_acticate sigmoid --stage1_n 2 '+\\\n",
    "'--seed 6 --loss MAE --gradient_clip 1.0 --epochs_num 20 --optm Adam --learning_rate 1e-3 --bert_freeze no --bert_lr_rate 0.01 '+\\\n",
    "'--weight_decay 0.0 --lr_decrease multi_step --lr_decrease_iter 50-60 --lr_decrease_rate 0.1 --save_best_features --parallel '\n",
    "print(cmd)\n",
    "!{cmd}"
   ]
  },
  {
   "cell_type": "code",
   "execution_count": null,
   "id": "042bc733",
   "metadata": {
    "collapsed": true
   },
   "outputs": [],
   "source": [
    "cmd = 'python Main.py --task_name mosiDec96 --dataset mosi_Dec --log_scale 0-0-0 --batch_size 128 --num_workers 8  '+\\\n",
    "'--d_common 128 --encoders gru --activate gelu --time_len 100 --d_hiddens 50-3-128=10-3-128 --d_outs 50-3-128=10-3-128 '+\\\n",
    "'--dropout_mlp 0.0-0.0-0.0 --dropout 0.1-0.1-0.1-0.1 --bias --res_project 1-1 '+\\\n",
    "'--critic_type separate --baseline_type constant --bound_type infonce --mi_lr_rate 1.0 --cmi_lr_rate 1.0 '+\\\n",
    "'--loss_mi_coefficient1 1-1-1-1-1-1-1-1-1-1-1 --loss_mi_coefficient2 0.01-0.01-0.01-0.01-0.01-0.01-0.01-0.01 '+\\\n",
    "'--k_neighbor 4 --radius 1.0 --cmi_last_acticate sigmoid --stage1_n 2 '+\\\n",
    "'--seed 5 --loss MAE --gradient_clip 1.0 --epochs_num 70 --optm Adam --learning_rate 1e-3 --bert_freeze no --bert_lr_rate 0.01 '+\\\n",
    "'--weight_decay 0.0 --lr_decrease multi_step --lr_decrease_iter 50-60 --lr_decrease_rate 0.1 --save_best_features --parallel '\n",
    "print(cmd)\n",
    "!{cmd}"
   ]
  },
  {
   "cell_type": "code",
   "execution_count": null,
   "id": "167fafb7",
   "metadata": {
    "collapsed": true
   },
   "outputs": [],
   "source": [
    "cmd = 'python Main.py --task_name mosiDec97 --dataset mosi_Dec --log_scale 0-0-0 --batch_size 128 --num_workers 8  '+\\\n",
    "'--d_common 128 --encoders gru --activate gelu --time_len 100 --d_hiddens 50-3-128=10-3-128 --d_outs 50-3-128=10-3-128 '+\\\n",
    "'--dropout_mlp 0.0-0.0-0.0 --dropout 0.1-0.1-0.1-0.1 --bias --res_project 1-1 '+\\\n",
    "'--critic_type separate --baseline_type constant --bound_type infonce --mi_lr_rate 1.0 --cmi_lr_rate 1.0 '+\\\n",
    "'--loss_mi_coefficient1 1-1-1-1-1-1-1-1-1-1-1 --loss_mi_coefficient2 0.01-0.01-0.01-0.01-0.01-0.01-0.01-0.01 '+\\\n",
    "'--k_neighbor 4 --radius 1.0 --cmi_last_acticate sigmoid --stage1_n 2 '+\\\n",
    "'--seed 6 --loss MAE --gradient_clip 1.0 --epochs_num 70 --optm Adam --learning_rate 1e-3 --bert_freeze no --bert_lr_rate 0.01 '+\\\n",
    "'--weight_decay 0.0 --lr_decrease multi_step --lr_decrease_iter 50-60 --lr_decrease_rate 0.1 --save_best_features --parallel '\n",
    "print(cmd)\n",
    "!{cmd}"
   ]
  },
  {
   "cell_type": "code",
   "execution_count": null,
   "id": "132537df",
   "metadata": {
    "collapsed": true
   },
   "outputs": [],
   "source": [
    "cmd = 'python Main.py --task_name mosiDec98 --dataset mosi_Dec --log_scale 0-0-0 --batch_size 128 --num_workers 8  '+\\\n",
    "'--d_common 128 --encoders gru --activate gelu --time_len 100 --d_hiddens 50-3-128=10-3-128 --d_outs 50-3-128=10-3-128 '+\\\n",
    "'--dropout_mlp 0.0-0.0-0.0 --dropout 0.1-0.1-0.1-0.1 --bias --res_project 1-1 '+\\\n",
    "'--critic_type separate --baseline_type constant --bound_type infonce --mi_lr_rate 1.0 --cmi_lr_rate 1.0 '+\\\n",
    "'--loss_mi_coefficient1 1-1-1-1-1-1-1-1-1-1-1 --loss_mi_coefficient2 0.01-0.01-0.01-0.01-0.01-0.01-0.01-0.01 '+\\\n",
    "'--k_neighbor 4 --radius 1.0 --cmi_last_acticate sigmoid --stage1_n 2 '+\\\n",
    "'--seed 7 --loss MAE --gradient_clip 1.0 --epochs_num 70 --optm Adam --learning_rate 1e-3 --bert_freeze no --bert_lr_rate 0.01 '+\\\n",
    "'--weight_decay 0.0 --lr_decrease multi_step --lr_decrease_iter 50-60 --lr_decrease_rate 0.1 --save_best_features --parallel '\n",
    "print(cmd)\n",
    "!{cmd}"
   ]
  },
  {
   "cell_type": "code",
   "execution_count": null,
   "id": "c1102cfc",
   "metadata": {},
   "outputs": [],
   "source": []
  },
  {
   "cell_type": "code",
   "execution_count": null,
   "id": "4711e8ae",
   "metadata": {},
   "outputs": [],
   "source": []
  },
  {
   "cell_type": "code",
   "execution_count": null,
   "id": "eb2919d0",
   "metadata": {},
   "outputs": [],
   "source": []
  },
  {
   "cell_type": "code",
   "execution_count": null,
   "id": "c20ed0b3",
   "metadata": {
    "collapsed": true
   },
   "outputs": [],
   "source": [
    "# Current best 0.695\n",
    "cmd = 'python Main.py --task_name mosiDec3 --dataset mosi_Dec --log_scale 0-0-0 --batch_size 128 --num_workers 8  '+\\\n",
    "'--d_common 128 --encoders gru --activate gelu --time_len 100 --d_hiddens 50-3-128=10-3-128 --d_outs 50-3-128=10-3-128 '+\\\n",
    "'--dropout_mlp 0.0-0.0-0.0 --dropout 0.1-0.1-0.1-0.1 --bias --res_project 1-1 '+\\\n",
    "'--critic_type separate --baseline_type constant --bound_type infonce --mi_lr_rate 1.0 --cmi_lr_rate 0.1 '+\\\n",
    "'--loss_mi_coefficient1 1-1-1-1-1-1-1-1-1-1-1 --loss_mi_coefficient2 0.01-0.01-0.01-0.01-0.01-0.01-0.01-0.01 '+\\\n",
    "'--k_neighbor 4 --radius 1000.0 --cmi_last_acticate hardtanh --stage1_n 1 '+\\\n",
    "'--seed 0 --loss MAE --gradient_clip 1.0 --epochs_num 70 --optm Adam --learning_rate 4e-3 --bert_freeze no --bert_lr_rate 0.01 '+\\\n",
    "'--weight_decay 0.0 --lr_decrease multi_step --lr_decrease_iter 50-60 --lr_decrease_rate 0.1 --save_best_features --parallel'\n",
    "print(cmd)\n",
    "!{cmd}"
   ]
  },
  {
   "cell_type": "code",
   "execution_count": null,
   "id": "e243be24",
   "metadata": {},
   "outputs": [],
   "source": []
  },
  {
   "cell_type": "code",
   "execution_count": null,
   "id": "f6b055a6",
   "metadata": {},
   "outputs": [],
   "source": [
    "a = '0.4:0.2:0.4:0.3:0.6:0.2'\n",
    "a = a.split(':')\n",
    "a = [float(i) for i in a]\n",
    "ratio =[]\n",
    "for ai in a:\n",
    "    r = (ai / sum(a))*100\n",
    "    ratio.append('{0:.1f}%'.format(r))\n",
    "print(*ratio, sep=' : ')"
   ]
  },
  {
   "cell_type": "markdown",
   "id": "003b1739",
   "metadata": {},
   "source": [
    "## Supplementary experiments"
   ]
  },
  {
   "cell_type": "code",
   "execution_count": null,
   "id": "67424a0a",
   "metadata": {},
   "outputs": [],
   "source": [
    "cmd = 'python Main.py --task_name SupInv5 --dataset mosi_Dec --log_scale 0-0-0 --batch_size 128 --num_workers 8  '+\\\n",
    "'--d_common 128 --encoders gru --activate gelu --time_len 100 --d_hiddens 50-3-128=10-3-128 --d_outs 50-3-128=10-3-128 '+\\\n",
    "'--dropout_mlp 0.0-0.0-0.0 --dropout 0.1-0.1-0.1-0.1 --bias --res_project 1-1 '+\\\n",
    "'--critic_type separate --baseline_type constant --bound_type infonce --mi_lr_rate 1.0 --cmi_lr_rate 0.1 '+\\\n",
    "'--loss_mi_coefficient1 1-1-1-1-1-1-1-1-1-1-1 --loss_mi_coefficient2 0.0-0.0-0.0-10.0-0.0-0.0-0.0-0.0 '+\\\n",
    "'--k_neighbor 4 --radius 1000.0 --cmi_last_acticate hardtanh --stage1_n 1 '+\\\n",
    "'--seed 0 --loss MAE --gradient_clip 1.0 --epochs_num 10 --optm Adam --learning_rate 4e-3 --bert_freeze no --bert_lr_rate 0.01 '+\\\n",
    "'--weight_decay 0.0 --lr_decrease multi_step --lr_decrease_iter 50-60 --lr_decrease_rate 0.1 --save_best_features --parallel'\n",
    "print(cmd)\n",
    "!{cmd}"
   ]
  },
  {
   "cell_type": "code",
   "execution_count": null,
   "id": "c809c85b",
   "metadata": {},
   "outputs": [],
   "source": []
  },
  {
   "cell_type": "code",
   "execution_count": null,
   "id": "b9a40f9a",
   "metadata": {},
   "outputs": [],
   "source": []
  },
  {
   "cell_type": "code",
   "execution_count": null,
   "id": "5d27deac",
   "metadata": {},
   "outputs": [],
   "source": []
  },
  {
   "cell_type": "code",
   "execution_count": null,
   "id": "baa4c969",
   "metadata": {},
   "outputs": [],
   "source": []
  }
 ],
 "metadata": {
  "kernelspec": {
   "display_name": "Python 3",
   "language": "python",
   "name": "python3"
  },
  "language_info": {
   "codemirror_mode": {
    "name": "ipython",
    "version": 3
   },
   "file_extension": ".py",
   "mimetype": "text/x-python",
   "name": "python",
   "nbconvert_exporter": "python",
   "pygments_lexer": "ipython3",
   "version": "3.6.10"
  },
  "vscode": {
   "interpreter": {
    "hash": "2f3988891b5b180a5ea956a182d2b4e3be128e70bab7d25fdc0dd643e41754a8"
   }
  }
 },
 "nbformat": 4,
 "nbformat_minor": 5
}
